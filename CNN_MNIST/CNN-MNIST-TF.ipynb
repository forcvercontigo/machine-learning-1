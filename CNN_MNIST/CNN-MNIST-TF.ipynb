{
 "cells": [
  {
   "cell_type": "code",
   "execution_count": 1,
   "metadata": {},
   "outputs": [],
   "source": [
    "import tensorflow as tf\n",
    "import numpy as np\n",
    "from tensorflow.examples.tutorials.mnist import input_data"
   ]
  },
  {
   "cell_type": "code",
   "execution_count": 2,
   "metadata": {},
   "outputs": [
    {
     "name": "stdout",
     "output_type": "stream",
     "text": [
      "Successfully downloaded train-images-idx3-ubyte.gz 9912422 bytes.\n",
      "Extracting train-images-idx3-ubyte.gz\n",
      "Successfully downloaded train-labels-idx1-ubyte.gz 28881 bytes.\n",
      "Extracting train-labels-idx1-ubyte.gz\n",
      "Successfully downloaded t10k-images-idx3-ubyte.gz 1648877 bytes.\n",
      "Extracting t10k-images-idx3-ubyte.gz\n",
      "Successfully downloaded t10k-labels-idx1-ubyte.gz 4542 bytes.\n",
      "Extracting t10k-labels-idx1-ubyte.gz\n"
     ]
    }
   ],
   "source": [
    "mnist = input_data.read_data_sets('',one_hot=True)"
   ]
  },
  {
   "cell_type": "code",
   "execution_count": 3,
   "metadata": {},
   "outputs": [],
   "source": [
    "#Data fetch\n",
    "x_train = mnist.train.images\n",
    "y_train = mnist.train.labels\n",
    "x_test = mnist.test.images\n",
    "y_test = mnist.test.labels"
   ]
  },
  {
   "cell_type": "code",
   "execution_count": 4,
   "metadata": {},
   "outputs": [],
   "source": [
    "#Method definations\n",
    "def weight_variable(shape):\n",
    "    vals = tf.truncated_normal(shape, stddev=0.1)\n",
    "    return tf.Variable(vals)"
   ]
  },
  {
   "cell_type": "code",
   "execution_count": 5,
   "metadata": {},
   "outputs": [],
   "source": [
    "def weight_bias(shape):\n",
    "    vals = tf.constant(0.1, shape=shape)\n",
    "    return tf.Variable(vals)"
   ]
  },
  {
   "cell_type": "code",
   "execution_count": 6,
   "metadata": {},
   "outputs": [],
   "source": [
    "def conv(X, W):\n",
    "    return tf.nn.conv2d(X,W,strides=[1,1,1,1], padding='SAME')"
   ]
  },
  {
   "cell_type": "code",
   "execution_count": 7,
   "metadata": {},
   "outputs": [],
   "source": [
    "def pool(X):\n",
    "    return tf.nn.max_pool(X,ksize=[1,2,2,1],\n",
    "                          strides=[1,2,2,1],padding='SAME')"
   ]
  },
  {
   "cell_type": "code",
   "execution_count": 8,
   "metadata": {},
   "outputs": [],
   "source": [
    "#Initialization\n",
    "X = tf.placeholder(tf.float32, shape=(None,784))\n",
    "Y = tf.placeholder(tf.float32,shape=(None,10))"
   ]
  },
  {
   "cell_type": "code",
   "execution_count": 9,
   "metadata": {},
   "outputs": [],
   "source": [
    "x_image = tf.reshape(X,[-1,28,28,1])"
   ]
  },
  {
   "cell_type": "code",
   "execution_count": 10,
   "metadata": {},
   "outputs": [
    {
     "name": "stdout",
     "output_type": "stream",
     "text": [
      "(?, 28, 28, 1)\n"
     ]
    }
   ],
   "source": [
    "print(x_image.shape)"
   ]
  },
  {
   "cell_type": "code",
   "execution_count": 11,
   "metadata": {},
   "outputs": [
    {
     "name": "stdout",
     "output_type": "stream",
     "text": [
      "(5, 5, 1, 32) (32,) (?, 28, 28, 32)\n"
     ]
    }
   ],
   "source": [
    "#First Convolution Layer input (28,28,1) => output (28, 28, 32)\n",
    "W_conv1 = weight_variable([5,5,1,32])\n",
    "b_conv1 = weight_bias([32])\n",
    "h_conv1 = tf.nn.relu(conv(x_image,W_conv1)+b_conv1)\n",
    "print(W_conv1.shape, b_conv1.shape, h_conv1.shape)"
   ]
  },
  {
   "cell_type": "code",
   "execution_count": 12,
   "metadata": {},
   "outputs": [
    {
     "name": "stdout",
     "output_type": "stream",
     "text": [
      "(?, 14, 14, 32)\n"
     ]
    }
   ],
   "source": [
    "#First Pooling LAyer input (28,28,32) => output (14, 14, 32)\n",
    "h_pool1 = pool(h_conv1)\n",
    "print(h_pool1.shape)"
   ]
  },
  {
   "cell_type": "code",
   "execution_count": 13,
   "metadata": {},
   "outputs": [
    {
     "name": "stdout",
     "output_type": "stream",
     "text": [
      "(5, 5, 32, 64) (64,) (?, 14, 14, 64)\n"
     ]
    }
   ],
   "source": [
    "#Second Convolution Layer input (14,14,32) => output (14, 14, 64)\n",
    "W_conv2 = weight_variable([5,5,32,64])\n",
    "b_conv2 = weight_bias([64])\n",
    "h_conv2 = tf.nn.relu(conv(h_pool1,W_conv2)+b_conv2)\n",
    "print(W_conv2.shape, b_conv2.shape, h_conv2.shape)"
   ]
  },
  {
   "cell_type": "code",
   "execution_count": 14,
   "metadata": {},
   "outputs": [
    {
     "name": "stdout",
     "output_type": "stream",
     "text": [
      "(?, 7, 7, 64)\n"
     ]
    }
   ],
   "source": [
    "#Second Pooling Layer input (14,14,64) => output (7, 7, 64)\n",
    "h_pool2 = pool(h_conv2)\n",
    "print(h_pool2.shape)"
   ]
  },
  {
   "cell_type": "code",
   "execution_count": 15,
   "metadata": {},
   "outputs": [],
   "source": [
    "#First dense layer \n",
    "W_fc1 = weight_variable([7*7*64, 1024])\n",
    "b_fc1 = weight_bias([1024])"
   ]
  },
  {
   "cell_type": "code",
   "execution_count": 16,
   "metadata": {},
   "outputs": [
    {
     "name": "stdout",
     "output_type": "stream",
     "text": [
      "(?, 3136)\n"
     ]
    }
   ],
   "source": [
    "h_pool2_flat = tf.reshape(h_pool2, shape=[-1,7*7*64]) #Reshape\n",
    "print(h_pool2_flat.shape)"
   ]
  },
  {
   "cell_type": "code",
   "execution_count": 17,
   "metadata": {},
   "outputs": [],
   "source": [
    "h_fc1 = tf.nn.relu(tf.matmul(h_pool2_flat,W_fc1)+b_fc1) #Model"
   ]
  },
  {
   "cell_type": "code",
   "execution_count": 18,
   "metadata": {},
   "outputs": [],
   "source": [
    "keep_prob = tf.placeholder(tf.float32)\n",
    "h_fc1_drop = tf.nn.dropout(h_fc1, keep_prob) #Dropout"
   ]
  },
  {
   "cell_type": "code",
   "execution_count": 19,
   "metadata": {},
   "outputs": [],
   "source": [
    "#Second dense layer \n",
    "W_fc2 = weight_variable([1024,10])\n",
    "b_fc2 = weight_bias([10])"
   ]
  },
  {
   "cell_type": "code",
   "execution_count": 20,
   "metadata": {},
   "outputs": [],
   "source": [
    "y_conv = tf.matmul(h_fc1_drop,W_fc2)+b_fc2 #Model"
   ]
  },
  {
   "cell_type": "code",
   "execution_count": 21,
   "metadata": {},
   "outputs": [],
   "source": [
    "#Loss calculation\n",
    "loss = tf.reduce_mean(tf.nn.softmax_cross_entropy_with_logits(labels=Y, logits=y_conv))"
   ]
  },
  {
   "cell_type": "code",
   "execution_count": 22,
   "metadata": {},
   "outputs": [],
   "source": [
    "#regularization\n",
    "regularizer = (tf.nn.l2_loss(W_fc1)+tf.nn.l2_loss(b_fc1)+\n",
    "              tf.nn.l2_loss(W_fc2)+tf.nn.l2_loss(b_fc2))"
   ]
  },
  {
   "cell_type": "code",
   "execution_count": 23,
   "metadata": {},
   "outputs": [],
   "source": [
    "loss += 5e-4*regularizer"
   ]
  },
  {
   "cell_type": "code",
   "execution_count": 24,
   "metadata": {},
   "outputs": [],
   "source": [
    "#Changing weights during the epochs\n",
    "batch = tf.Variable(0, tf.float32)\n",
    "learning_rate = tf.train.exponential_decay(\n",
    "    0.01,\n",
    "    batch*50, #50 because of batch size\n",
    "    x_train.shape[0],\n",
    "    0.95,\n",
    "    staircase=True\n",
    ")"
   ]
  },
  {
   "cell_type": "code",
   "execution_count": 25,
   "metadata": {},
   "outputs": [],
   "source": [
    "#Trainer/Optimizer\n",
    "opt = tf.train.MomentumOptimizer(learning_rate, 0.9).minimize(loss,\n",
    "                                                             global_step=batch)"
   ]
  },
  {
   "cell_type": "code",
   "execution_count": 26,
   "metadata": {},
   "outputs": [],
   "source": [
    "#opt = tf.train.AdamOptimizer(0.0001).minimize(loss)"
   ]
  },
  {
   "cell_type": "code",
   "execution_count": 27,
   "metadata": {},
   "outputs": [],
   "source": [
    "#Accuracy Calculation\n",
    "accuracy = tf.reduce_mean(tf.cast\n",
    "                          (tf.equal\n",
    "                           (tf.argmax(y_conv,1), \n",
    "                            tf.argmax(Y,1)),\n",
    "                           tf.float32)\n",
    "                         )"
   ]
  },
  {
   "cell_type": "code",
   "execution_count": 28,
   "metadata": {},
   "outputs": [],
   "source": [
    "s = tf.Session()"
   ]
  },
  {
   "cell_type": "code",
   "execution_count": 29,
   "metadata": {},
   "outputs": [],
   "source": [
    "s.run(tf.global_variables_initializer())"
   ]
  },
  {
   "cell_type": "code",
   "execution_count": 30,
   "metadata": {},
   "outputs": [
    {
     "name": "stdout",
     "output_type": "stream",
     "text": [
      "Accuracy at 0-th Epoch : 9.830000\n",
      "Accuracy at 1-th Epoch : 97.310001\n",
      "Accuracy at 2-th Epoch : 98.060000\n",
      "Accuracy at 3-th Epoch : 98.530000\n",
      "Accuracy at 4-th Epoch : 98.439997\n",
      "Accuracy at 5-th Epoch : 98.780000\n",
      "Accuracy at 6-th Epoch : 98.869997\n",
      "Accuracy at 7-th Epoch : 98.979998\n",
      "Accuracy at 8-th Epoch : 98.869997\n",
      "Accuracy at 9-th Epoch : 99.080002\n",
      "Accuracy at 10-th Epoch : 98.970002\n",
      "Accuracy at 11-th Epoch : 99.140000\n",
      "Accuracy at 12-th Epoch : 99.100000\n",
      "Accuracy at 13-th Epoch : 99.100000\n",
      "Accuracy at 14-th Epoch : 99.129999\n",
      "Accuracy at 15-th Epoch : 99.210000\n",
      "Accuracy at 16-th Epoch : 99.040002\n",
      "Accuracy at 17-th Epoch : 99.190003\n",
      "Accuracy at 18-th Epoch : 99.089998\n",
      "Accuracy at 19-th Epoch : 99.210000\n",
      "Accuracy at 20-th Epoch : 99.150002\n",
      "Accuracy at 21-th Epoch : 99.199998\n",
      "Accuracy at 22-th Epoch : 99.110001\n",
      "Accuracy at 23-th Epoch : 99.269998\n",
      "Accuracy at 24-th Epoch : 99.260002\n",
      "Accuracy at 25-th Epoch : 99.309999\n",
      "Accuracy at 26-th Epoch : 99.269998\n",
      "Accuracy at 27-th Epoch : 99.229997\n",
      "Accuracy at 28-th Epoch : 99.290001\n",
      "Accuracy at 29-th Epoch : 99.129999\n",
      "Accuracy at 30-th Epoch : 99.330002\n",
      "Accuracy at 31-th Epoch : 99.239999\n",
      "Accuracy at 32-th Epoch : 99.260002\n",
      "Accuracy at 33-th Epoch : 99.290001\n",
      "Accuracy at 34-th Epoch : 99.320000\n",
      "Accuracy at 35-th Epoch : 99.280000\n",
      "Accuracy at 36-th Epoch : 99.330002\n",
      "Accuracy at 37-th Epoch : 99.269998\n",
      "Accuracy at 38-th Epoch : 99.320000\n",
      "Accuracy at 39-th Epoch : 99.280000\n",
      "Accuracy at 40-th Epoch : 99.229997\n",
      "Accuracy at 41-th Epoch : 99.360001\n",
      "Accuracy at 42-th Epoch : 99.269998\n",
      "Accuracy at 43-th Epoch : 99.320000\n",
      "Accuracy at 44-th Epoch : 99.239999\n",
      "Accuracy at 45-th Epoch : 99.280000\n",
      "Accuracy at 46-th Epoch : 99.250001\n",
      "Accuracy at 47-th Epoch : 99.309999\n",
      "Accuracy at 48-th Epoch : 99.299997\n",
      "Accuracy at 49-th Epoch : 99.299997\n",
      "Accuracy at 50-th Epoch : 99.280000\n",
      "Accuracy at 51-th Epoch : 99.330002\n",
      "Accuracy at 52-th Epoch : 99.320000\n",
      "Accuracy at 53-th Epoch : 99.269998\n",
      "Accuracy at 54-th Epoch : 99.250001\n",
      "Accuracy at 55-th Epoch : 99.250001\n",
      "Accuracy at 56-th Epoch : 99.320000\n",
      "Accuracy at 57-th Epoch : 99.309999\n",
      "Accuracy at 58-th Epoch : 99.309999\n",
      "Accuracy at 59-th Epoch : 99.349999\n",
      "Accuracy at 60-th Epoch : 99.339998\n",
      "Accuracy at 61-th Epoch : 99.360001\n",
      "Accuracy at 62-th Epoch : 99.299997\n",
      "Accuracy at 63-th Epoch : 99.330002\n",
      "Accuracy at 64-th Epoch : 99.309999\n",
      "Accuracy at 65-th Epoch : 99.330002\n",
      "Accuracy at 66-th Epoch : 99.370003\n",
      "Accuracy at 67-th Epoch : 99.299997\n",
      "Accuracy at 68-th Epoch : 99.309999\n",
      "Accuracy at 69-th Epoch : 99.349999\n",
      "Accuracy at 70-th Epoch : 99.339998\n",
      "Accuracy at 71-th Epoch : 99.280000\n",
      "Accuracy at 72-th Epoch : 99.330002\n",
      "Accuracy at 73-th Epoch : 99.370003\n",
      "Accuracy at 74-th Epoch : 99.309999\n",
      "Accuracy at 75-th Epoch : 99.349999\n",
      "Accuracy at 76-th Epoch : 99.379998\n",
      "Accuracy at 77-th Epoch : 99.320000\n",
      "Accuracy at 78-th Epoch : 99.339998\n",
      "Accuracy at 79-th Epoch : 99.360001\n",
      "Accuracy at 80-th Epoch : 99.299997\n",
      "Accuracy at 81-th Epoch : 99.330002\n",
      "Accuracy at 82-th Epoch : 99.339998\n",
      "Accuracy at 83-th Epoch : 99.339998\n",
      "Accuracy at 84-th Epoch : 99.360001\n",
      "Accuracy at 85-th Epoch : 99.370003\n",
      "Accuracy at 86-th Epoch : 99.269998\n",
      "Accuracy at 87-th Epoch : 99.330002\n",
      "Accuracy at 88-th Epoch : 99.339998\n",
      "Accuracy at 89-th Epoch : 99.349999\n",
      "Accuracy at 90-th Epoch : 99.330002\n",
      "Accuracy at 91-th Epoch : 99.360001\n",
      "Accuracy at 92-th Epoch : 99.370003\n",
      "Accuracy at 93-th Epoch : 99.349999\n",
      "Accuracy at 94-th Epoch : 99.360001\n",
      "Accuracy at 95-th Epoch : 99.370003\n",
      "Accuracy at 96-th Epoch : 99.370003\n",
      "Accuracy at 97-th Epoch : 99.370003\n",
      "Accuracy at 98-th Epoch : 99.370003\n",
      "Accuracy at 99-th Epoch : 99.349999\n"
     ]
    }
   ],
   "source": [
    "#Training\n",
    "for i in range(55000): #for 100 epochs\n",
    "    batch = mnist.train.next_batch(50)\n",
    "    s.run(opt,{X:batch[0],Y:batch[1],keep_prob:0.5})\n",
    "    if i%550 == 0:\n",
    "        acc = s.run(accuracy,{X:x_test,Y:y_test,keep_prob:1.0})*100\n",
    "        print(\"Accuracy at %d-th Epoch : %f\"%(i/550,acc))"
   ]
  },
  {
   "cell_type": "code",
   "execution_count": 31,
   "metadata": {},
   "outputs": [
    {
     "name": "stdout",
     "output_type": "stream",
     "text": [
      "0.9934\n"
     ]
    }
   ],
   "source": [
    "#Accuracy Calculation\n",
    "print(s.run(accuracy,{X:mnist.test.images, Y:mnist.test.labels, keep_prob:1.0}))"
   ]
  },
  {
   "cell_type": "code",
   "execution_count": null,
   "metadata": {},
   "outputs": [],
   "source": []
  }
 ],
 "metadata": {
  "kernelspec": {
   "display_name": "Python 3",
   "language": "python",
   "name": "python3"
  },
  "language_info": {
   "codemirror_mode": {
    "name": "ipython",
    "version": 3
   },
   "file_extension": ".py",
   "mimetype": "text/x-python",
   "name": "python",
   "nbconvert_exporter": "python",
   "pygments_lexer": "ipython3",
   "version": "3.5.2"
  }
 },
 "nbformat": 4,
 "nbformat_minor": 2
}
