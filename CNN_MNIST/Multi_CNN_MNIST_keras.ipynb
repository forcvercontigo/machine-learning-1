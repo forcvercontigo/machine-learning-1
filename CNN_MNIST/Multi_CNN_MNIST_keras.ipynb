{
 "cells": [
  {
   "cell_type": "code",
   "execution_count": 16,
   "metadata": {},
   "outputs": [],
   "source": [
    "import tensorflow as tf\n",
    "import numpy as np\n",
    "from tensorflow.examples.tutorials.mnist import input_data\n",
    "from keras.callbacks import TensorBoard\n",
    "from time import time"
   ]
  },
  {
   "cell_type": "code",
   "execution_count": 7,
   "metadata": {},
   "outputs": [
    {
     "name": "stdout",
     "output_type": "stream",
     "text": [
      "Extracting train-images-idx3-ubyte.gz\n",
      "Extracting train-labels-idx1-ubyte.gz\n",
      "Extracting t10k-images-idx3-ubyte.gz\n",
      "Extracting t10k-labels-idx1-ubyte.gz\n"
     ]
    }
   ],
   "source": [
    "mnist = input_data.read_data_sets('',one_hot=True)"
   ]
  },
  {
   "cell_type": "code",
   "execution_count": 8,
   "metadata": {},
   "outputs": [
    {
     "name": "stdout",
     "output_type": "stream",
     "text": [
      "(55000, 28, 28, 1) (55000, 10) (10000, 28, 28, 1) (10000, 10) (5000, 28, 28, 1) (5000, 10)\n"
     ]
    }
   ],
   "source": [
    "X_train = mnist.train.images.reshape(-1,28,28,1)\n",
    "Y_train = mnist.train.labels\n",
    "X_test = mnist.test.images.reshape(-1,28,28,1)\n",
    "Y_test = mnist.test.labels\n",
    "X_val = mnist.validation.images.reshape(-1,28,28,1)\n",
    "Y_val = mnist.validation.labels\n",
    "print(X_train.shape, Y_train.shape, X_test.shape, Y_test.shape, X_val.shape, Y_val.shape)"
   ]
  },
  {
   "cell_type": "code",
   "execution_count": 9,
   "metadata": {},
   "outputs": [],
   "source": [
    "from keras.models import Model\n",
    "from keras.layers import Input, Conv2D, Dropout, MaxPooling2D, Dense, Flatten, Concatenate"
   ]
  },
  {
   "cell_type": "code",
   "execution_count": 26,
   "metadata": {},
   "outputs": [],
   "source": [
    "input_layer = Input(shape=X_train[0].shape)\n",
    "\n",
    "conv_1_1 = Conv2D(filters=32, kernel_size=(3,3), padding='same', activation='relu')(input_layer)\n",
    "pool_1_1 = MaxPooling2D(strides=(2,2))(conv_1_1)\n",
    "conv_1_2 = Conv2D(filters=64, kernel_size=(3,3), padding='same', activation='relu')(pool_1_1)\n",
    "pool_1_2 = MaxPooling2D(strides=(2,2))(conv_1_2)\n",
    "conv_1_3 = Conv2D(filters=128, kernel_size=(3,3), padding='same', activation='relu')(pool_1_2)\n",
    "pool_1_3 = MaxPooling2D(strides=(2,2))(conv_1_3)\n",
    "flat_1 = Flatten()(pool_1_3)\n",
    "\n",
    "conv_2_1 = Conv2D(filters=32, kernel_size=(4,4), padding='same', activation='relu')(input_layer)\n",
    "pool_2_1 = MaxPooling2D(strides=(2,2))(conv_2_1)\n",
    "conv_2_2 = Conv2D(filters=64, kernel_size=(4,4), padding='same', activation='relu')(pool_2_1)\n",
    "pool_2_2 = MaxPooling2D(strides=(2,2))(conv_2_2)\n",
    "conv_2_3 = Conv2D(filters=128, kernel_size=(4,4), padding='same', activation='relu')(pool_2_2)\n",
    "pool_2_3 = MaxPooling2D(strides=(2,2))(conv_2_3)\n",
    "flat_2 = Flatten()(pool_2_3)\n",
    "\n",
    "conv_3_1 = Conv2D(filters=32, kernel_size=(5,5), padding='same', activation='relu')(input_layer)\n",
    "pool_3_1 = MaxPooling2D(strides=(2,2))(conv_3_1)\n",
    "conv_3_2 = Conv2D(filters=64, kernel_size=(5,5), padding='same', activation='relu')(pool_3_1)\n",
    "pool_3_2 = MaxPooling2D(strides=(2,2))(conv_3_2)\n",
    "conv_3_3 = Conv2D(filters=128, kernel_size=(5,5), padding='same', activation='relu')(pool_3_2)\n",
    "pool_3_3 = MaxPooling2D(strides=(2,2))(conv_3_3)\n",
    "flat_3 = Flatten()(pool_3_3)\n",
    "\n",
    "merge_layer = Concatenate()([flat_1, flat_2, flat_3])\n",
    "\n",
    "dense_1 = Dense(4096, activation='relu')(merge_layer)\n",
    "dropout_1 = Dropout(0.5)(dense_1)\n",
    "result = Dense(10, activation='softmax')(dropout_1)"
   ]
  },
  {
   "cell_type": "code",
   "execution_count": 27,
   "metadata": {},
   "outputs": [
    {
     "name": "stdout",
     "output_type": "stream",
     "text": [
      "__________________________________________________________________________________________________\n",
      "Layer (type)                    Output Shape         Param #     Connected to                     \n",
      "==================================================================================================\n",
      "input_5 (InputLayer)            (None, 28, 28, 1)    0                                            \n",
      "__________________________________________________________________________________________________\n",
      "conv2d_22 (Conv2D)              (None, 28, 28, 32)   320         input_5[0][0]                    \n",
      "__________________________________________________________________________________________________\n",
      "conv2d_25 (Conv2D)              (None, 28, 28, 32)   544         input_5[0][0]                    \n",
      "__________________________________________________________________________________________________\n",
      "conv2d_28 (Conv2D)              (None, 28, 28, 32)   832         input_5[0][0]                    \n",
      "__________________________________________________________________________________________________\n",
      "max_pooling2d_22 (MaxPooling2D) (None, 14, 14, 32)   0           conv2d_22[0][0]                  \n",
      "__________________________________________________________________________________________________\n",
      "max_pooling2d_25 (MaxPooling2D) (None, 14, 14, 32)   0           conv2d_25[0][0]                  \n",
      "__________________________________________________________________________________________________\n",
      "max_pooling2d_28 (MaxPooling2D) (None, 14, 14, 32)   0           conv2d_28[0][0]                  \n",
      "__________________________________________________________________________________________________\n",
      "conv2d_23 (Conv2D)              (None, 14, 14, 64)   18496       max_pooling2d_22[0][0]           \n",
      "__________________________________________________________________________________________________\n",
      "conv2d_26 (Conv2D)              (None, 14, 14, 64)   32832       max_pooling2d_25[0][0]           \n",
      "__________________________________________________________________________________________________\n",
      "conv2d_29 (Conv2D)              (None, 14, 14, 64)   51264       max_pooling2d_28[0][0]           \n",
      "__________________________________________________________________________________________________\n",
      "max_pooling2d_23 (MaxPooling2D) (None, 7, 7, 64)     0           conv2d_23[0][0]                  \n",
      "__________________________________________________________________________________________________\n",
      "max_pooling2d_26 (MaxPooling2D) (None, 7, 7, 64)     0           conv2d_26[0][0]                  \n",
      "__________________________________________________________________________________________________\n",
      "max_pooling2d_29 (MaxPooling2D) (None, 7, 7, 64)     0           conv2d_29[0][0]                  \n",
      "__________________________________________________________________________________________________\n",
      "conv2d_24 (Conv2D)              (None, 7, 7, 128)    73856       max_pooling2d_23[0][0]           \n",
      "__________________________________________________________________________________________________\n",
      "conv2d_27 (Conv2D)              (None, 7, 7, 128)    131200      max_pooling2d_26[0][0]           \n",
      "__________________________________________________________________________________________________\n",
      "conv2d_30 (Conv2D)              (None, 7, 7, 128)    204928      max_pooling2d_29[0][0]           \n",
      "__________________________________________________________________________________________________\n",
      "max_pooling2d_24 (MaxPooling2D) (None, 3, 3, 128)    0           conv2d_24[0][0]                  \n",
      "__________________________________________________________________________________________________\n",
      "max_pooling2d_27 (MaxPooling2D) (None, 3, 3, 128)    0           conv2d_27[0][0]                  \n",
      "__________________________________________________________________________________________________\n",
      "max_pooling2d_30 (MaxPooling2D) (None, 3, 3, 128)    0           conv2d_30[0][0]                  \n",
      "__________________________________________________________________________________________________\n",
      "flatten_10 (Flatten)            (None, 1152)         0           max_pooling2d_24[0][0]           \n",
      "__________________________________________________________________________________________________\n",
      "flatten_11 (Flatten)            (None, 1152)         0           max_pooling2d_27[0][0]           \n",
      "__________________________________________________________________________________________________\n",
      "flatten_12 (Flatten)            (None, 1152)         0           max_pooling2d_30[0][0]           \n",
      "__________________________________________________________________________________________________\n",
      "concatenate_4 (Concatenate)     (None, 3456)         0           flatten_10[0][0]                 \n",
      "                                                                 flatten_11[0][0]                 \n",
      "                                                                 flatten_12[0][0]                 \n",
      "__________________________________________________________________________________________________\n",
      "dense_7 (Dense)                 (None, 4096)         14159872    concatenate_4[0][0]              \n",
      "__________________________________________________________________________________________________\n",
      "dropout_4 (Dropout)             (None, 4096)         0           dense_7[0][0]                    \n",
      "__________________________________________________________________________________________________\n",
      "dense_8 (Dense)                 (None, 10)           40970       dropout_4[0][0]                  \n",
      "==================================================================================================\n",
      "Total params: 14,715,114\n",
      "Trainable params: 14,715,114\n",
      "Non-trainable params: 0\n",
      "__________________________________________________________________________________________________\n"
     ]
    }
   ],
   "source": [
    "model = Model(input_layer, result)\n",
    "model.summary()"
   ]
  },
  {
   "cell_type": "code",
   "execution_count": 28,
   "metadata": {},
   "outputs": [],
   "source": [
    "tensorboard = TensorBoard(log_dir='./logs/{}'.format(time()))"
   ]
  },
  {
   "cell_type": "code",
   "execution_count": 29,
   "metadata": {},
   "outputs": [],
   "source": [
    "model.compile(loss='categorical_crossentropy', metrics=['accuracy'], optimizer='adam')"
   ]
  },
  {
   "cell_type": "code",
   "execution_count": 32,
   "metadata": {},
   "outputs": [
    {
     "name": "stdout",
     "output_type": "stream",
     "text": [
      "Train on 55000 samples, validate on 5000 samples\n",
      "Epoch 1/10\n",
      "55000/55000 [==============================] - 8s 141us/step - loss: 0.0052 - acc: 0.9986 - val_loss: 0.0363 - val_acc: 0.9932\n",
      "Epoch 2/10\n",
      "55000/55000 [==============================] - 8s 142us/step - loss: 0.0045 - acc: 0.9987 - val_loss: 0.0373 - val_acc: 0.9918\n",
      "Epoch 3/10\n",
      "55000/55000 [==============================] - 8s 142us/step - loss: 0.0082 - acc: 0.9974 - val_loss: 0.0449 - val_acc: 0.9918\n",
      "Epoch 4/10\n",
      "55000/55000 [==============================] - 8s 142us/step - loss: 0.0056 - acc: 0.9981 - val_loss: 0.0370 - val_acc: 0.9934\n",
      "Epoch 5/10\n",
      "55000/55000 [==============================] - 8s 144us/step - loss: 0.0076 - acc: 0.9978 - val_loss: 0.0331 - val_acc: 0.9926\n",
      "Epoch 6/10\n",
      "55000/55000 [==============================] - 8s 142us/step - loss: 0.0045 - acc: 0.9989 - val_loss: 0.0370 - val_acc: 0.9922\n",
      "Epoch 7/10\n",
      "55000/55000 [==============================] - 8s 142us/step - loss: 0.0055 - acc: 0.9983 - val_loss: 0.0379 - val_acc: 0.9922\n",
      "Epoch 8/10\n",
      "55000/55000 [==============================] - 8s 141us/step - loss: 0.0047 - acc: 0.9987 - val_loss: 0.0494 - val_acc: 0.9920\n",
      "Epoch 9/10\n",
      "55000/55000 [==============================] - 8s 142us/step - loss: 0.0082 - acc: 0.9976 - val_loss: 0.0380 - val_acc: 0.9932\n",
      "Epoch 10/10\n",
      "55000/55000 [==============================] - 8s 144us/step - loss: 0.0035 - acc: 0.9989 - val_loss: 0.0371 - val_acc: 0.9934\n"
     ]
    },
    {
     "data": {
      "text/plain": [
       "<keras.callbacks.History at 0x7febaece4d30>"
      ]
     },
     "execution_count": 32,
     "metadata": {},
     "output_type": "execute_result"
    }
   ],
   "source": [
    "model.fit(X_train, Y_train, \n",
    "          validation_data=(X_val, Y_val), \n",
    "          batch_size=256, \n",
    "          epochs=10, \n",
    "          callbacks=[tensorboard], \n",
    "          shuffle=True)"
   ]
  },
  {
   "cell_type": "code",
   "execution_count": 33,
   "metadata": {},
   "outputs": [
    {
     "name": "stdout",
     "output_type": "stream",
     "text": [
      "10000/10000 [==============================] - 1s 75us/step\n"
     ]
    },
    {
     "data": {
      "text/plain": [
       "[0.036193752335761, 0.9935]"
      ]
     },
     "execution_count": 33,
     "metadata": {},
     "output_type": "execute_result"
    }
   ],
   "source": [
    "model.evaluate(X_test, Y_test)"
   ]
  },
  {
   "cell_type": "code",
   "execution_count": null,
   "metadata": {},
   "outputs": [],
   "source": []
  }
 ],
 "metadata": {
  "kernelspec": {
   "display_name": "Python 3",
   "language": "python",
   "name": "python3"
  },
  "language_info": {
   "codemirror_mode": {
    "name": "ipython",
    "version": 3
   },
   "file_extension": ".py",
   "mimetype": "text/x-python",
   "name": "python",
   "nbconvert_exporter": "python",
   "pygments_lexer": "ipython3",
   "version": "3.5.2"
  }
 },
 "nbformat": 4,
 "nbformat_minor": 2
}
