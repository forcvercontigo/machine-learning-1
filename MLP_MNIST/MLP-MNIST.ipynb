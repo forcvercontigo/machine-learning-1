{
 "cells": [
  {
   "cell_type": "code",
   "execution_count": 85,
   "metadata": {},
   "outputs": [],
   "source": [
    "import tensorflow as tf"
   ]
  },
  {
   "cell_type": "code",
   "execution_count": 86,
   "metadata": {},
   "outputs": [
    {
     "name": "stdout",
     "output_type": "stream",
     "text": [
      "Extracting train-images-idx3-ubyte.gz\n",
      "Extracting train-labels-idx1-ubyte.gz\n",
      "Extracting t10k-images-idx3-ubyte.gz\n",
      "Extracting t10k-labels-idx1-ubyte.gz\n"
     ]
    }
   ],
   "source": [
    "from tensorflow.examples.tutorials.mnist import input_data\n",
    "mnist = input_data.read_data_sets('', one_hot=True)"
   ]
  },
  {
   "cell_type": "code",
   "execution_count": 87,
   "metadata": {},
   "outputs": [],
   "source": [
    "train_X = mnist.train.images\n",
    "train_Y = mnist.train.labels\n",
    "test_X = mnist.test.images\n",
    "test_Y = mnist.test.labels"
   ]
  },
  {
   "cell_type": "code",
   "execution_count": 88,
   "metadata": {},
   "outputs": [],
   "source": [
    "s = tf.InteractiveSession()"
   ]
  },
  {
   "cell_type": "code",
   "execution_count": 89,
   "metadata": {},
   "outputs": [],
   "source": [
    "feature_size = mnist.train.images.shape[1]\n",
    "output_size = mnist.train.labels.shape[1]\n",
    "h1_size = 392\n",
    "h2_size = 196\n",
    "h3_size = 98\n",
    "h4_size = 49\n",
    "h5_size = 24\n",
    "X = tf.placeholder(tf.float32, shape=(None, feature_size))\n",
    "Y = tf.placeholder(tf.float32, shape=(None, output_size))"
   ]
  },
  {
   "cell_type": "code",
   "execution_count": 90,
   "metadata": {},
   "outputs": [],
   "source": [
    "W = {\n",
    "    'h1' : tf.Variable(tf.random_normal([feature_size, h1_size])),\n",
    "    'h2' : tf.Variable(tf.random_normal([h1_size, h2_size])),\n",
    "    'h3' : tf.Variable(tf.random_normal([h2_size, h3_size])),\n",
    "    'h4' : tf.Variable(tf.random_normal([h3_size, h4_size])),\n",
    "    'h5' : tf.Variable(tf.random_normal([h4_size, h5_size])),\n",
    "    'out' : tf.Variable(tf.random_normal([h5_size, output_size]))\n",
    "}\n",
    "b = {\n",
    "    'h1' : tf.Variable(tf.random_normal([h1_size])),\n",
    "    'h2' : tf.Variable(tf.random_normal([h2_size])),\n",
    "    'h3' : tf.Variable(tf.random_normal([h3_size])),\n",
    "    'h4' : tf.Variable(tf.random_normal([h4_size])),\n",
    "    'h5' : tf.Variable(tf.random_normal([h5_size])),\n",
    "    'out' : tf.Variable(tf.random_normal([output_size]))\n",
    "}\n"
   ]
  },
  {
   "cell_type": "code",
   "execution_count": 91,
   "metadata": {},
   "outputs": [],
   "source": [
    "#print(X.shape,X.dtype,Y.shape,Y.dtype, W['h1'].shape,W['h1'].dtype,\n",
    "#      W['out'].shape,W['out'].dtype, b['h1'].shape,b['h1'].dtype,\n",
    "#      b['out'].shape,b['out'].dtype)"
   ]
  },
  {
   "cell_type": "code",
   "execution_count": 92,
   "metadata": {},
   "outputs": [],
   "source": [
    "def model():\n",
    "    hidden_layer1 = tf.sigmoid(tf.matmul(X, W['h1'])+b['h1'])\n",
    "    hidden_layer2 = tf.sigmoid(tf.matmul(hidden_layer1, W['h2'])+b['h2'])\n",
    "    hidden_layer3 = tf.sigmoid(tf.matmul(hidden_layer2, W['h3'])+b['h3'])\n",
    "    hidden_layer4 = tf.sigmoid(tf.matmul(hidden_layer3, W['h4'])+b['h4'])\n",
    "    hidden_layer5 = tf.sigmoid(tf.matmul(hidden_layer4, W['h5'])+b['h5'])\n",
    "    output_layer = tf.nn.softmax(tf.matmul(hidden_layer5, W['out'])+b['out'])\n",
    "    return output_layer"
   ]
  },
  {
   "cell_type": "code",
   "execution_count": 93,
   "metadata": {},
   "outputs": [],
   "source": [
    "model = model()\n",
    "#print(model.shape, model.dtype)"
   ]
  },
  {
   "cell_type": "code",
   "execution_count": 97,
   "metadata": {},
   "outputs": [
    {
     "name": "stdout",
     "output_type": "stream",
     "text": [
      "() <dtype: 'float32'>\n"
     ]
    }
   ],
   "source": [
    "loss = tf.reduce_mean(tf.nn.softmax_cross_entropy_with_logits(logits=model, labels=Y))\n",
    "print(loss.shape, loss.dtype)"
   ]
  },
  {
   "cell_type": "code",
   "execution_count": 98,
   "metadata": {},
   "outputs": [],
   "source": [
    "#opt = tf.train.MomentumOptimizer(0.1,0.5).minimize(loss)\n",
    "opt = tf.train.AdamOptimizer(0.001).minimize(loss)\n",
    "accuracy = tf.reduce_mean(tf.cast(tf.equal(tf.argmax(model,1), tf.argmax(Y,1)), tf.float32))\n",
    "#print(opt)"
   ]
  },
  {
   "cell_type": "code",
   "execution_count": 99,
   "metadata": {},
   "outputs": [],
   "source": [
    "s.run(tf.global_variables_initializer())"
   ]
  },
  {
   "cell_type": "code",
   "execution_count": 100,
   "metadata": {},
   "outputs": [
    {
     "name": "stdout",
     "output_type": "stream",
     "text": [
      "Accuracy at 0-th Epoch : 10.270000\n",
      "Accuracy at 1-th Epoch : 63.029999\n",
      "Accuracy at 2-th Epoch : 65.660000\n",
      "Accuracy at 3-th Epoch : 73.949999\n",
      "Accuracy at 4-th Epoch : 75.099999\n",
      "Accuracy at 5-th Epoch : 80.059999\n",
      "Accuracy at 6-th Epoch : 82.470000\n",
      "Accuracy at 7-th Epoch : 88.990003\n",
      "Accuracy at 8-th Epoch : 91.149998\n",
      "Accuracy at 9-th Epoch : 92.390001\n",
      "Accuracy at 10-th Epoch : 92.629999\n",
      "Accuracy at 11-th Epoch : 92.890000\n",
      "Accuracy at 12-th Epoch : 93.390000\n",
      "Accuracy at 13-th Epoch : 93.019998\n",
      "Accuracy at 14-th Epoch : 93.720001\n",
      "Accuracy at 15-th Epoch : 93.650001\n",
      "Accuracy at 16-th Epoch : 93.870002\n",
      "Accuracy at 17-th Epoch : 94.150001\n",
      "Accuracy at 18-th Epoch : 94.669998\n",
      "Accuracy at 19-th Epoch : 94.370002\n",
      "Accuracy at 20-th Epoch : 94.230002\n",
      "Accuracy at 21-th Epoch : 94.099998\n",
      "Accuracy at 22-th Epoch : 94.370002\n",
      "Accuracy at 23-th Epoch : 94.480002\n",
      "Accuracy at 24-th Epoch : 94.480002\n",
      "Accuracy at 25-th Epoch : 94.400001\n",
      "Accuracy at 26-th Epoch : 94.690001\n",
      "Accuracy at 27-th Epoch : 94.779998\n",
      "Accuracy at 28-th Epoch : 94.480002\n",
      "Accuracy at 29-th Epoch : 94.800001\n",
      "Accuracy at 30-th Epoch : 94.940001\n",
      "Accuracy at 31-th Epoch : 94.529998\n",
      "Accuracy at 32-th Epoch : 94.790000\n",
      "Accuracy at 33-th Epoch : 94.970000\n",
      "Accuracy at 34-th Epoch : 95.069999\n",
      "Accuracy at 35-th Epoch : 94.880003\n",
      "Accuracy at 36-th Epoch : 95.240003\n",
      "Accuracy at 37-th Epoch : 95.060003\n",
      "Accuracy at 38-th Epoch : 95.410001\n",
      "Accuracy at 39-th Epoch : 94.800001\n",
      "Accuracy at 40-th Epoch : 95.340002\n",
      "Accuracy at 41-th Epoch : 95.520002\n",
      "Accuracy at 42-th Epoch : 95.359999\n",
      "Accuracy at 43-th Epoch : 94.700003\n",
      "Accuracy at 44-th Epoch : 95.099998\n",
      "Accuracy at 45-th Epoch : 94.959998\n",
      "Accuracy at 46-th Epoch : 95.270002\n",
      "Accuracy at 47-th Epoch : 95.539999\n",
      "Accuracy at 48-th Epoch : 95.450002\n",
      "Accuracy at 49-th Epoch : 95.490003\n",
      "Accuracy at 50-th Epoch : 95.609999\n",
      "Accuracy at 51-th Epoch : 95.469999\n",
      "Accuracy at 52-th Epoch : 95.630002\n",
      "Accuracy at 53-th Epoch : 95.730001\n",
      "Accuracy at 54-th Epoch : 95.330000\n",
      "Accuracy at 55-th Epoch : 95.599997\n",
      "Accuracy at 56-th Epoch : 95.789999\n",
      "Accuracy at 57-th Epoch : 95.709997\n",
      "Accuracy at 58-th Epoch : 95.760000\n",
      "Accuracy at 59-th Epoch : 95.639998\n",
      "Accuracy at 60-th Epoch : 95.639998\n",
      "Accuracy at 61-th Epoch : 95.349997\n",
      "Accuracy at 62-th Epoch : 95.749998\n",
      "Accuracy at 63-th Epoch : 95.990002\n",
      "Accuracy at 64-th Epoch : 95.560002\n",
      "Accuracy at 65-th Epoch : 95.630002\n",
      "Accuracy at 66-th Epoch : 95.499998\n",
      "Accuracy at 67-th Epoch : 95.599997\n",
      "Accuracy at 68-th Epoch : 95.639998\n",
      "Accuracy at 69-th Epoch : 95.940000\n",
      "Accuracy at 70-th Epoch : 95.539999\n",
      "Accuracy at 71-th Epoch : 96.010000\n",
      "Accuracy at 72-th Epoch : 95.980000\n",
      "Accuracy at 73-th Epoch : 96.010000\n",
      "Accuracy at 74-th Epoch : 95.940000\n",
      "Accuracy at 75-th Epoch : 95.899999\n",
      "Accuracy at 76-th Epoch : 95.980000\n",
      "Accuracy at 77-th Epoch : 95.990002\n",
      "Accuracy at 78-th Epoch : 95.730001\n",
      "Accuracy at 79-th Epoch : 96.030003\n",
      "Accuracy at 80-th Epoch : 95.920002\n",
      "Accuracy at 81-th Epoch : 95.850003\n",
      "Accuracy at 82-th Epoch : 96.100003\n",
      "Accuracy at 83-th Epoch : 95.969999\n",
      "Accuracy at 84-th Epoch : 95.840001\n",
      "Accuracy at 85-th Epoch : 95.529997\n",
      "Accuracy at 86-th Epoch : 95.550001\n",
      "Accuracy at 87-th Epoch : 95.940000\n",
      "Accuracy at 88-th Epoch : 95.859998\n",
      "Accuracy at 89-th Epoch : 96.160001\n",
      "Accuracy at 90-th Epoch : 95.620000\n",
      "Accuracy at 91-th Epoch : 96.100003\n",
      "Accuracy at 92-th Epoch : 95.899999\n",
      "Accuracy at 93-th Epoch : 96.210003\n",
      "Accuracy at 94-th Epoch : 95.499998\n",
      "Accuracy at 95-th Epoch : 95.779997\n",
      "Accuracy at 96-th Epoch : 96.069998\n",
      "Accuracy at 97-th Epoch : 96.130002\n",
      "Accuracy at 98-th Epoch : 95.880002\n",
      "Accuracy at 99-th Epoch : 96.039999\n",
      "96.020001173\n"
     ]
    }
   ],
   "source": [
    "for i in range(55000):\n",
    "    batch_X, batch_Y = mnist.train.next_batch(50)\n",
    "    s.run(opt, {X:batch_X, Y:batch_Y})\n",
    "    if i%550 == 0:\n",
    "        acc = s.run(accuracy, {X:test_X, Y:test_Y})\n",
    "        print(\"Accuracy at %d-th Epoch : %f\"%(i/550,acc*100))\n",
    "print(s.run(accuracy, {X: test_X, Y:test_Y})*100)"
   ]
  },
  {
   "cell_type": "code",
   "execution_count": null,
   "metadata": {},
   "outputs": [],
   "source": []
  },
  {
   "cell_type": "code",
   "execution_count": null,
   "metadata": {},
   "outputs": [],
   "source": []
  }
 ],
 "metadata": {
  "kernelspec": {
   "display_name": "Python 3",
   "language": "python",
   "name": "python3"
  },
  "language_info": {
   "codemirror_mode": {
    "name": "ipython",
    "version": 3
   },
   "file_extension": ".py",
   "mimetype": "text/x-python",
   "name": "python",
   "nbconvert_exporter": "python",
   "pygments_lexer": "ipython3",
   "version": "3.5.2"
  }
 },
 "nbformat": 4,
 "nbformat_minor": 2
}
